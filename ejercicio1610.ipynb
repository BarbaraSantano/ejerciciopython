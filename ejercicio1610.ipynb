{
  "nbformat": 4,
  "nbformat_minor": 0,
  "metadata": {
    "colab": {
      "name": "ejercicio1610.ipynb",
      "provenance": [],
      "authorship_tag": "ABX9TyNJtUO4yy9wZuql1fpbP9jw",
      "include_colab_link": true
    },
    "kernelspec": {
      "name": "python3",
      "display_name": "Python 3"
    },
    "language_info": {
      "name": "python"
    }
  },
  "cells": [
    {
      "cell_type": "markdown",
      "metadata": {
        "id": "view-in-github",
        "colab_type": "text"
      },
      "source": [
        "<a href=\"https://colab.research.google.com/github/BarbaraSantano/ejerciciopython/blob/main/ejercicio1610.ipynb\" target=\"_parent\"><img src=\"https://colab.research.google.com/assets/colab-badge.svg\" alt=\"Open In Colab\"/></a>"
      ]
    },
    {
      "cell_type": "code",
      "source": [
        "x = int(input(\"Ingrese el primer numero: \"))\n",
        "y = int(input(\"Ingrese segundo numero:\"))\n",
        "if x == 1 and y == 2:\n",
        "  print(\"es verdadero\")\n",
        "else:\n",
        "  print(\"no encontrado\")"
      ],
      "metadata": {
        "colab": {
          "base_uri": "https://localhost:8080/"
        },
        "id": "Lg9XlFjAg31t",
        "outputId": "fc2014dc-542e-48b1-be4e-071d686df2c3"
      },
      "execution_count": 32,
      "outputs": [
        {
          "output_type": "stream",
          "name": "stdout",
          "text": [
            "Ingrese el primer numero: 1\n",
            "Ingrese segundo numero:2\n",
            "es verdadero\n"
          ]
        }
      ]
    },
    {
      "cell_type": "code",
      "source": [
        "numero = int(input(\"Ingrese número: \"))\n",
        "while numero < 80:\n",
        "  numero = numero *2\n",
        "  print(numero)"
      ],
      "metadata": {
        "colab": {
          "base_uri": "https://localhost:8080/"
        },
        "id": "HkQLoVuSnyks",
        "outputId": "063f8d9d-2219-4532-f3d1-b2bae832d1e4"
      },
      "execution_count": 41,
      "outputs": [
        {
          "output_type": "stream",
          "name": "stdout",
          "text": [
            "Ingrese número: 1\n",
            "2\n",
            "4\n",
            "8\n",
            "16\n",
            "32\n",
            "64\n",
            "128\n"
          ]
        }
      ]
    }
  ]
}